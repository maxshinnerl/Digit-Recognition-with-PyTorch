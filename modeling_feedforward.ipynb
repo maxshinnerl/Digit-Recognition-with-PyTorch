{
 "cells": [
  {
   "cell_type": "code",
   "execution_count": 1,
   "metadata": {},
   "outputs": [],
   "source": [
    "import numpy as np\n",
    "import pandas as pd\n",
    "import torch\n",
    "import cv2\n",
    "from torch.utils.data import Dataset\n",
    "from torch.utils.data import DataLoader\n",
    "import torch.nn as nn\n",
    "import torch.optim as optim\n",
    "\n",
    "from tqdm.notebook import tqdm\n",
    "import matplotlib.pyplot as plt\n",
    "\n",
    "from mnist import MNIST\n",
    "\n",
    "import matplotlib.pyplot as plt"
   ]
  },
  {
   "cell_type": "markdown",
   "metadata": {},
   "source": [
    "data: http://yann.lecun.com/exdb/mnist/\n",
    "\n",
    "guide: https://towardsdatascience.com/handwritten-digit-mnist-pytorch-977b5338e627"
   ]
  },
  {
   "cell_type": "code",
   "execution_count": 2,
   "metadata": {},
   "outputs": [],
   "source": [
    "def read_in_data(path, train=True):\n",
    "    mndata = MNIST(path)\n",
    "    \n",
    "    if train:\n",
    "        images, labels = mndata.load_training()\n",
    "    else:\n",
    "        images, labels = mndata.load_testing()\n",
    "    \n",
    "    # this is needed if treating as images\n",
    "    #for i, image in enumerate(images):\n",
    "    #    images[i] = np.array(image).reshape(28,28)\n",
    "        \n",
    "    return images, list(labels)\n",
    "    \n",
    "train_images, train_labels = read_in_data('train_data/')\n",
    "test_images,  test_labels  = read_in_data('test_data/', train=False)"
   ]
  },
  {
   "cell_type": "code",
   "execution_count": 3,
   "metadata": {},
   "outputs": [
    {
     "data": {
      "image/png": "[encoded data removed]",
      "text/plain": [
       "<Figure size 432x288 with 1 Axes>"
      ]
     },
     "metadata": {
      "needs_background": "light"
     },
     "output_type": "display_data"
    },
    {
     "name": "stdout",
     "output_type": "stream",
     "text": [
      "label:  7\n"
     ]
    }
   ],
   "source": [
    "def show_image_from_list(image):\n",
    "    img = image.copy()\n",
    "    img = np.array(img).reshape(28,28)\n",
    "    plt.imshow(img, cmap='gray_r')\n",
    "    plt.show()\n",
    "    \n",
    "idx = 42\n",
    "show_image_from_list(train_images[idx])\n",
    "print('label: ', train_labels[idx])"
   ]
  },
  {
   "cell_type": "markdown",
   "metadata": {},
   "source": [
    "# Dataset class"
   ]
  },
  {
   "cell_type": "code",
   "execution_count": 4,
   "metadata": {},
   "outputs": [],
   "source": [
    "class ImagesDataset(Dataset):\n",
    "    def __init__(self, image_list, label_list):\n",
    "        self.image_list = image_list\n",
    "        self.label_list = label_list\n",
    "        \n",
    "    def __len__(self):\n",
    "        return len(self.label_list)\n",
    "    \n",
    "    def __getitem__(self, idx):\n",
    "        img = self.image_list[idx]\n",
    "        img = torch.tensor(img).float()\n",
    "        \n",
    "        label = self.label_list[idx]\n",
    "        label = torch.tensor(label).long()\n",
    "        \n",
    "        return img, label"
   ]
  },
  {
   "cell_type": "code",
   "execution_count": 5,
   "metadata": {},
   "outputs": [],
   "source": [
    "train_ds = ImagesDataset(train_images, train_labels)\n",
    "test_ds  = ImagesDataset(test_images,  test_labels)\n",
    "\n",
    "train_dl = DataLoader(train_ds, batch_size=100, shuffle=True)\n",
    "test_dl  = DataLoader(test_ds, batch_size=100)"
   ]
  },
  {
   "cell_type": "code",
   "execution_count": 6,
   "metadata": {},
   "outputs": [
    {
     "data": {
      "image/png": "[encoded data removed]",
      "text/plain": [
       "<Figure size 432x288 with 1 Axes>"
      ]
     },
     "metadata": {
      "needs_background": "light"
     },
     "output_type": "display_data"
    },
    {
     "data": {
      "text/plain": [
       "tensor(5)"
      ]
     },
     "execution_count": 6,
     "metadata": {},
     "output_type": "execute_result"
    }
   ],
   "source": [
    "im, lb = next(iter(train_ds))\n",
    "show_image_from_list(list(im))\n",
    "lb"
   ]
  },
  {
   "cell_type": "markdown",
   "metadata": {},
   "source": [
    "# Models"
   ]
  },
  {
   "cell_type": "code",
   "execution_count": 7,
   "metadata": {},
   "outputs": [],
   "source": [
    "class FeedForward2Layer(nn.Module):\n",
    "    def __init__(self, input_size=784, hidden_size=64, output_size=10):\n",
    "        super(FeedForward2Layer, self).__init__()\n",
    "        \n",
    "        self.i2h = nn.Linear(input_size, hidden_size)\n",
    "        self.h2o = nn.Linear(hidden_size, output_size)\n",
    "        \n",
    "        self.relu = nn.ReLU()\n",
    "        \n",
    "    def forward(self, x):\n",
    "        x = self.i2h(x)\n",
    "        x = self.relu(x)\n",
    "        x = self.h2o(x)\n",
    "        \n",
    "        return x"
   ]
  },
  {
   "cell_type": "markdown",
   "metadata": {},
   "source": [
    "# Training"
   ]
  },
  {
   "cell_type": "code",
   "execution_count": 11,
   "metadata": {},
   "outputs": [],
   "source": [
    "def one_pass(model, dataloader, optimizer, lossFun, backwards=True, print_loss=False):\n",
    "    if backwards == True:\n",
    "        model.train()\n",
    "    else:\n",
    "        model.eval()\n",
    "    \n",
    "    total_loss = 0.0\n",
    "    for x, y in dataloader:\n",
    "        \n",
    "        y_pred = model(x)\n",
    "        loss = lossFun(y_pred, y)\n",
    "        total_loss += loss.item()\n",
    "        \n",
    "        if backwards == True:\n",
    "            optimizer.zero_grad()\n",
    "            loss.backward()\n",
    "            optimizer.step()\n",
    "    avg_loss = total_loss / len(dataloader)\n",
    "    \n",
    "    if print_loss == True:\n",
    "        print(avg_loss)\n",
    "    \n",
    "    return avg_loss\n",
    "\n",
    "def one_pass_acc(model, dataloader, num_points):\n",
    "    model.eval()\n",
    "    total_incorrect = 0\n",
    "    \n",
    "    softmax = nn.LogSoftmax(dim=1)\n",
    "    \n",
    "    for x, y in dataloader:\n",
    "        y_pred = softmax(model(x))\n",
    "        y_pred = torch.argmax(y_pred, dim=1)\n",
    "        \n",
    "        total_incorrect += torch.count_nonzero(y - y_pred).item()\n",
    "        \n",
    "    percent_wrong = total_incorrect / num_points\n",
    "    return 1 - percent_wrong"
   ]
  },
  {
   "cell_type": "code",
   "execution_count": 12,
   "metadata": {},
   "outputs": [],
   "source": [
    "# prep\n",
    "epochs = 30\n",
    "lossFun = nn.CrossEntropyLoss()\n",
    "model = FeedForward2Layer()\n",
    "optimizer = optim.Adam(model.parameters(), lr=0.001)\n",
    "train_losses = []\n",
    "test_losses  = []"
   ]
  },
  {
   "cell_type": "code",
   "execution_count": 13,
   "metadata": {},
   "outputs": [
    {
     "data": {
      "application/vnd.jupyter.widget-view+json": {
       "model_id": "86f9d694e51a4fe4b94aa959072c27fc",
       "version_major": 2,
       "version_minor": 0
      },
      "text/plain": [
       "HBox(children=(FloatProgress(value=0.0, max=30.0), HTML(value='')))"
      ]
     },
     "metadata": {},
     "output_type": "display_data"
    },
    {
     "name": "stdout",
     "output_type": "stream",
     "text": [
      "epoch: 0\n",
      "Train loss: 0.6550902405505379\n",
      "Test loss: 0.2579012550972402\n",
      "Train Acc: 0.93525\n",
      "Test Acc: 0.9302\n",
      "epoch: 1\n",
      "Train loss: 0.20612187579274177\n",
      "Test loss: 0.1968631815398112\n",
      "Train Acc: 0.95155\n",
      "Test Acc: 0.9453\n",
      "epoch: 2\n",
      "Train loss: 0.1627718978235498\n",
      "Test loss: 0.1736729652993381\n",
      "Train Acc: 0.9622833333333334\n",
      "Test Acc: 0.9529\n",
      "epoch: 3\n",
      "Train loss: 0.14720445197386045\n",
      "Test loss: 0.1695932032552082\n",
      "Train Acc: 0.9628166666666667\n",
      "Test Acc: 0.9526\n",
      "epoch: 4\n",
      "Train loss: 0.13733801138742516\n",
      "Test loss: 0.16075460948515682\n",
      "Train Acc: 0.96625\n",
      "Test Acc: 0.9579\n",
      "epoch: 5\n",
      "Train loss: 0.1346184849133715\n",
      "Test loss: 0.18218108241504524\n",
      "Train Acc: 0.9632666666666667\n",
      "Test Acc: 0.9533\n",
      "epoch: 6\n",
      "Train loss: 0.12561358670238407\n",
      "Test loss: 0.1664320213123574\n",
      "Train Acc: 0.9699666666666666\n",
      "Test Acc: 0.96\n",
      "epoch: 7\n",
      "Train loss: 0.12615444379781063\n",
      "Test loss: 0.16107593225548045\n",
      "Train Acc: 0.96905\n",
      "Test Acc: 0.9578\n",
      "epoch: 8\n",
      "Train loss: 0.1197107718884945\n",
      "Test loss: 0.17918507658294403\n",
      "Train Acc: 0.9718666666666667\n",
      "Test Acc: 0.9551\n",
      "epoch: 9\n",
      "Train loss: 0.11020890510485817\n",
      "Test loss: 0.19136250060022575\n",
      "Train Acc: 0.9716833333333333\n",
      "Test Acc: 0.9595\n",
      "epoch: 10\n",
      "Train loss: 0.11827455687879895\n",
      "Test loss: 0.19192942331850646\n",
      "Train Acc: 0.9684666666666667\n",
      "Test Acc: 0.9563\n",
      "epoch: 11\n",
      "Train loss: 0.10675488900238027\n",
      "Test loss: 0.1766080572649662\n",
      "Train Acc: 0.9749166666666667\n",
      "Test Acc: 0.9614\n",
      "epoch: 12\n",
      "Train loss: 0.10714385064163556\n",
      "Test loss: 0.18462328006986353\n",
      "Train Acc: 0.9736833333333333\n",
      "Test Acc: 0.9596\n",
      "epoch: 13\n",
      "Train loss: 0.1030378232372459\n",
      "Test loss: 0.19199603465924156\n",
      "Train Acc: 0.9764333333333334\n",
      "Test Acc: 0.9612\n",
      "epoch: 14\n",
      "Train loss: 0.09848154028179124\n",
      "Test loss: 0.21402156486466992\n",
      "Train Acc: 0.97285\n",
      "Test Acc: 0.9575\n",
      "epoch: 15\n",
      "Train loss: 0.09467280818459889\n",
      "Test loss: 0.19316646803883486\n",
      "Train Acc: 0.9769833333333333\n",
      "Test Acc: 0.9607\n",
      "epoch: 16\n",
      "Train loss: 0.08892386017541867\n",
      "Test loss: 0.2029434410939575\n",
      "Train Acc: 0.9761666666666666\n",
      "Test Acc: 0.9594\n",
      "epoch: 17\n",
      "Train loss: 0.10019281438202597\n",
      "Test loss: 0.19981370559522474\n",
      "Train Acc: 0.9765833333333334\n",
      "Test Acc: 0.961\n",
      "epoch: 18\n",
      "Train loss: 0.08612463964809043\n",
      "Test loss: 0.21934378530488174\n",
      "Train Acc: 0.9771666666666666\n",
      "Test Acc: 0.9607\n",
      "epoch: 19\n",
      "Train loss: 0.08869901614748718\n",
      "Test loss: 0.2312400270604121\n",
      "Train Acc: 0.9767333333333333\n",
      "Test Acc: 0.9564\n",
      "epoch: 20\n",
      "Train loss: 0.09006211469240952\n",
      "Test loss: 0.24122896914093872\n",
      "Train Acc: 0.97835\n",
      "Test Acc: 0.96\n",
      "epoch: 21\n",
      "Train loss: 0.08408513632447769\n",
      "Test loss: 0.21431443248522555\n",
      "Train Acc: 0.9815166666666667\n",
      "Test Acc: 0.9626\n",
      "epoch: 22\n",
      "Train loss: 0.07844248768301137\n",
      "Test loss: 0.23517050304479198\n",
      "Train Acc: 0.97965\n",
      "Test Acc: 0.9599\n",
      "epoch: 23\n",
      "Train loss: 0.08450448744794509\n",
      "Test loss: 0.2604524930355547\n",
      "Train Acc: 0.9773166666666666\n",
      "Test Acc: 0.9578\n",
      "epoch: 24\n",
      "Train loss: 0.08502024465517025\n",
      "Test loss: 0.2601148288936338\n",
      "Train Acc: 0.981\n",
      "Test Acc: 0.9628\n",
      "epoch: 25\n",
      "Train loss: 0.08030559792959442\n",
      "Test loss: 0.2572322188699763\n",
      "Train Acc: 0.9794166666666667\n",
      "Test Acc: 0.9595\n",
      "epoch: 26\n",
      "Train loss: 0.07534296363068278\n",
      "Test loss: 0.23969713962106654\n",
      "Train Acc: 0.9836166666666667\n",
      "Test Acc: 0.9607\n",
      "epoch: 27\n",
      "Train loss: 0.07300408338507017\n",
      "Test loss: 0.30258688720031157\n",
      "Train Acc: 0.98145\n",
      "Test Acc: 0.9593\n",
      "epoch: 28\n",
      "Train loss: 0.0764295813884625\n",
      "Test loss: 0.27808425843762963\n",
      "Train Acc: 0.9833\n",
      "Test Acc: 0.9621999999999999\n",
      "epoch: 29\n",
      "Train loss: 0.0703886635817859\n",
      "Test loss: 0.2850120778835117\n",
      "Train Acc: 0.9792\n",
      "Test Acc: 0.9599\n",
      "\n"
     ]
    }
   ],
   "source": [
    "# train\n",
    "for epoch in tqdm(range(epochs)):\n",
    "    print('epoch:', epoch)\n",
    "    \n",
    "    train_loss = one_pass(model, train_dl, optimizer, lossFun)\n",
    "    train_losses.append(train_loss)\n",
    "    print(\"Train loss:\", train_loss)\n",
    "    \n",
    "    test_loss = one_pass(model, test_dl, optimizer, lossFun, backwards=False)\n",
    "    test_losses.append(test_loss)\n",
    "    print(\"Test loss:\", test_loss)\n",
    "    \n",
    "    train_acc = one_pass_acc(model, train_dl, len(train_ds))\n",
    "    test_acc  = one_pass_acc(model, test_dl,  len(test_ds))\n",
    "    print(\"Train Acc:\", train_acc)\n",
    "    print(\"Test Acc:\", test_acc)"
   ]
  },
  {
   "cell_type": "code",
   "execution_count": 20,
   "metadata": {},
   "outputs": [
    {
     "data": {
      "image/png": "[encoded data removed]",
      "text/plain": [
       "<Figure size 432x288 with 1 Axes>"
      ]
     },
     "metadata": {
      "needs_background": "light"
     },
     "output_type": "display_data"
    }
   ],
   "source": [
    "plt.plot(train_losses)\n",
    "plt.plot(test_losses)\n",
    "plt.legend(['train losses', 'test losses'])\n",
    "plt.show()   # clear overfitting as time goes on"
   ]
  },
  {
   "cell_type": "markdown",
   "metadata": {},
   "source": [
    "# Save model"
   ]
  },
  {
   "cell_type": "code",
   "execution_count": 21,
   "metadata": {},
   "outputs": [],
   "source": [
    "torch.save(model.state_dict(), 'feed_forward_model.pth')"
   ]
  },
  {
   "cell_type": "markdown",
   "metadata": {},
   "source": [
    "# load model"
   ]
  },
  {
   "cell_type": "code",
   "execution_count": 33,
   "metadata": {},
   "outputs": [],
   "source": [
    "def load_ff_model():\n",
    "    model = FeedForward2Layer()\n",
    "    model.load_state_dict(torch.load('feed_forward_model.pth'))\n",
    "    \n",
    "    return model\n",
    "    \n",
    "model = load_ff_model()"
   ]
  },
  {
   "cell_type": "markdown",
   "metadata": {},
   "source": [
    "# check loaded model is working"
   ]
  },
  {
   "cell_type": "code",
   "execution_count": 34,
   "metadata": {},
   "outputs": [
    {
     "name": "stdout",
     "output_type": "stream",
     "text": [
      "Train Acc: 0.9792\n",
      "Test Acc: 0.9599\n"
     ]
    }
   ],
   "source": [
    "train_acc = one_pass_acc(model, train_dl, len(train_ds))\n",
    "test_acc  = one_pass_acc(model, test_dl,  len(test_ds))\n",
    "print(\"Train Acc:\", train_acc)\n",
    "print(\"Test Acc:\", test_acc)"
   ]
  },
  {
   "cell_type": "code",
   "execution_count": 35,
   "metadata": {},
   "outputs": [
    {
     "name": "stdout",
     "output_type": "stream",
     "text": [
      "tensor(7)\n"
     ]
    },
    {
     "data": {
      "image/png": "[encoded data removed]",
      "text/plain": [
       "<Figure size 432x288 with 1 Axes>"
      ]
     },
     "metadata": {
      "needs_background": "light"
     },
     "output_type": "display_data"
    },
    {
     "name": "stdout",
     "output_type": "stream",
     "text": [
      "tensor(7)\n"
     ]
    }
   ],
   "source": [
    "im, lb = next(iter(test_ds))\n",
    "print(lb)\n",
    "show_image_from_list(list(im))\n",
    "print(torch.argmax(model(im)))"
   ]
  },
  {
   "cell_type": "code",
   "execution_count": 38,
   "metadata": {},
   "outputs": [
    {
     "data": {
      "text/plain": [
       "7"
      ]
     },
     "execution_count": 38,
     "metadata": {},
     "output_type": "execute_result"
    }
   ],
   "source": [
    "def get_single_prediction(model, image):\n",
    "    \"\"\"\n",
    "    Note that image is expected in the list format to cohere with the mnist load functions\n",
    "    i.e. 1d list of length 28*28 = 784 instead of a 28 by 28 array\n",
    "    \"\"\"\n",
    "    model.eval()\n",
    "    yhat = model(image)\n",
    "    return(torch.argmax(yhat).item())\n",
    "\n",
    "im, lb = next(iter(test_ds))\n",
    "get_single_prediction(model, im)"
   ]
  },
  {
   "cell_type": "markdown",
   "metadata": {},
   "source": [
    "# TODO: pygame baby"
   ]
  },
  {
   "cell_type": "code",
   "execution_count": null,
   "metadata": {},
   "outputs": [],
   "source": []
  }
 ],
 "metadata": {
  "kernelspec": {
   "display_name": "Python 3",
   "language": "python",
   "name": "python3"
  },
  "language_info": {
   "codemirror_mode": {
    "name": "ipython",
    "version": 3
   },
   "file_extension": ".py",
   "mimetype": "text/x-python",
   "name": "python",
   "nbconvert_exporter": "python",
   "pygments_lexer": "ipython3",
   "version": "3.8.3"
  }
 },
 "nbformat": 4,
 "nbformat_minor": 4
}
